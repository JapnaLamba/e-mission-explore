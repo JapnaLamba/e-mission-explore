{
 "cells": [
  {
   "cell_type": "code",
   "execution_count": null,
   "metadata": {
    "collapsed": true
   },
   "outputs": [],
   "source": [
    "import sys\n",
    "import emission.public.pull_and_load_public_data as plpd\n",
    "import pandas as pd\n",
    "import emission.storage.timeseries.aggregate_timeseries as estag\n",
    "public_ids = estag.TEST_PHONE_IDS\n",
    "import arrow\n",
    "from uuid import UUID\n",
    "import matplotlib.pyplot as plt\n",
    "pd.options.display.float_format = '{:.2f}'.format"
   ]
  },
  {
   "cell_type": "code",
   "execution_count": null,
   "metadata": {
    "collapsed": false
   },
   "outputs": [],
   "source": [
    "from_ts = arrow.get('2017-01-26T17:56:20.000-08:00').timestamp\n",
    "from_ts\n",
    "arrow.get(from_ts).to(\"America/Los_Angeles\")"
   ]
  },
  {
   "cell_type": "code",
   "execution_count": null,
   "metadata": {
    "collapsed": false
   },
   "outputs": [],
   "source": [
    "end_ts = arrow.get(\"2017-01-26T18:15:00.000-08.00\").timestamp\n",
    "end_ts\n",
    "arrow.get(end_ts)"
   ]
  },
  {
   "cell_type": "code",
   "execution_count": null,
   "metadata": {
    "collapsed": false
   },
   "outputs": [],
   "source": [
    "plpd.request_batched_data(\"https://e-mission.eecs.berkeley.edu\",\n",
    "                          from_ts ,end_ts, map(str, public_ids))"
   ]
  },
  {
   "cell_type": "code",
   "execution_count": null,
   "metadata": {
    "collapsed": true
   },
   "outputs": [],
   "source": [
    "import emission.core.get_database as edb\n",
    "import matplotlib.pyplot as plt\n",
    "%matplotlib inline\n",
    "import datetime as pydt\n",
    "import emission.storage.timeseries.abstract_timeseries as esta\n",
    "import emission.storage.timeseries.timequery as estt\n",
    "import numpy as np\n",
    "import emission.analysis.point_features as pf\n",
    "import attrdict as ad\n",
    "import scipy.interpolate as spi\n",
    "import emission.core.wrapper.entry as ecwe\n",
    "import emission.core.wrapper.location as ecwl"
   ]
  },
  {
   "cell_type": "code",
   "execution_count": null,
   "metadata": {
    "collapsed": true
   },
   "outputs": [],
   "source": [
    "def get_points_from_ts_for_range(ts, start_ts, end_ts):\n",
    "    return ts.get_data_df(\"background/location\", \n",
    "                          estt.TimeQuery('metadata.write_ts', \n",
    "                                         start_ts, end_ts))"
   ]
  },
  {
   "cell_type": "code",
   "execution_count": null,
   "metadata": {
    "collapsed": false
   },
   "outputs": [],
   "source": [
    "iphone_id_3 = [UUID(\"c528bcd2-a88b-3e82-be62-ef4f2396967a\")]\n",
    "iphone_id_4 = [UUID(\"95e70727-a04e-3e33-b7fe-34ab19194f8b\")]\n",
    "android_id_3 = [UUID(\"86842c35-da28-32ed-a90e-2da6663c5c73\")]\n",
    "android_id_4 = [UUID(\"3bc0f91f-7660-34a2-b005-5c399598a369\")]"
   ]
  },
  {
   "cell_type": "code",
   "execution_count": null,
   "metadata": {
    "collapsed": true
   },
   "outputs": [],
   "source": [
    "iphone_ts_3 = map(lambda u: esta.TimeSeries.get_time_series(u),\n",
    "                  iphone_id_3)\n",
    "iphone_ts_4 = map(lambda u: esta.TimeSeries.get_time_series(u),\n",
    "                  iphone_id_4)\n",
    "android_ts_3 = map(lambda u: esta.TimeSeries.get_time_series(u),\n",
    "                   android_id_3)\n",
    "android_ts_4 = map(lambda u: esta.TimeSeries.get_time_series(u),\n",
    "                   android_id_4)"
   ]
  },
  {
   "cell_type": "code",
   "execution_count": null,
   "metadata": {
    "collapsed": false
   },
   "outputs": [],
   "source": [
    "iphone_df_3 = get_points_from_ts_for_range(iphone_ts_3[0],from_ts,\n",
    "                                           end_ts)\n",
    "iphone_df_4 = get_points_from_ts_for_range(iphone_ts_4[0],from_ts,\n",
    "                                           end_ts)\n",
    "android_df_3 = get_points_from_ts_for_range(android_ts_3[0],from_ts,\n",
    "                                            end_ts)  \n",
    "android_df_4 = get_points_from_ts_for_range(android_ts_4[0],from_ts,\n",
    "                                            end_ts)"
   ]
  },
  {
   "cell_type": "code",
   "execution_count": null,
   "metadata": {
    "collapsed": false
   },
   "outputs": [],
   "source": [
    "iphone_df_3\n",
    "#new = old[['A', 'C', 'D']].copy()\n",
    "new_iphone_df_3 = iphone_df_3[['latitude','longitude','ts']].copy()\n",
    "new_iphone_df_3.head()"
   ]
  },
  {
   "cell_type": "code",
   "execution_count": null,
   "metadata": {
    "collapsed": true
   },
   "outputs": [],
   "source": [
    "new_iphone_df_4 = iphone_df_4[['latitude','longitude','ts']].copy()\n",
    "new_android_df_3 = android_df_3[['latitude','longitude','ts']].copy()\n",
    "new_android_df_4 = android_df_4[['latitude','longitude','ts']].copy()"
   ]
  },
  {
   "cell_type": "code",
   "execution_count": null,
   "metadata": {
    "collapsed": true
   },
   "outputs": [],
   "source": [
    "ground_truth = pd.read_csv(\"/Users/jlamba/Desktop/e-mission berkeley trip ground truth - Sheet1 .csv\")"
   ]
  },
  {
   "cell_type": "code",
   "execution_count": null,
   "metadata": {
    "collapsed": false
   },
   "outputs": [],
   "source": [
    "gt_time = ground_truth['fmt_time']\n",
    "gt_time2 = []\n",
    "for elem in gt_time:\n",
    "    gt_time2.append(arrow.get('2017-01-26T'+ elem +'.000-08:00').timestamp)\n",
    "ground_truth['ts'] = gt_time2\n",
    "ground_truth\n",
    "ground_truth.plot(x = 'ts',y = 'latitude')"
   ]
  },
  {
   "cell_type": "code",
   "execution_count": null,
   "metadata": {
    "collapsed": false
   },
   "outputs": [],
   "source": [
    "fig, axes = plt.subplots(nrows=1, ncols=1)\n",
    "\n",
    "new_iphone_df_3.index = new_iphone_df_3['ts']\n",
    "new_iphone_df_4.index = new_iphone_df_4['ts']\n",
    "new_android_df_3.index = new_android_df_3['ts']\n",
    "new_android_df_4.index = new_android_df_4['ts']\n",
    "\n",
    "df1 = pd.DataFrame(new_iphone_df_3, index=new_iphone_df_3.index,columns=['latitude'])\n",
    "df2 = pd.DataFrame(new_iphone_df_4, index=new_iphone_df_4.index,columns=['latitude'])\n",
    "df3 = pd.DataFrame(new_android_df_3, index=new_android_df_3.index,columns=['latitude'])\n",
    "df4 = pd.DataFrame(new_android_df_4, index=new_android_df_4.index,columns=['latitude'])\n",
    "\n",
    "df1.plot(ax=axes, title = 'iphone3')\n",
    "df2.plot(ax=axes,title = 'iphone4' )\n",
    "df3.plot(ax=axes, label = 'android3')\n",
    "df4.plot(ax = axes, label = 'android4')\n",
    "ground_truth.plot(x = 'ts', y = 'latitude', ax = axes)\n",
    "\n",
    "lines, labels = axes.get_legend_handles_labels()\n",
    "print lines, labels\n",
    "axes.legend(lines, [\"iphone3\", \"iphone4\", \"android3\", \"android4\",\"ground_truth\"], loc='best') "
   ]
  },
  {
   "cell_type": "code",
   "execution_count": null,
   "metadata": {
    "collapsed": false
   },
   "outputs": [],
   "source": [
    "fig, axes = plt.subplots(nrows=1, ncols=1)\n",
    "\n",
    "df2_2 = pd.DataFrame(new_iphone_df_4, index=new_iphone_df_4.index,columns=['longitude'])\n",
    "df3_3 = pd.DataFrame(new_android_df_3, index=new_android_df_3.index,columns=['longitude'])\n",
    "df4_4 = pd.DataFrame(new_android_df_4, index=new_android_df_4.index,columns=['longitude'])\n",
    "df1_1 = pd.DataFrame(new_iphone_df_3, index=new_iphone_df_3.index,columns=['longitude'])\n",
    "\n",
    "df1_1.plot(ax=axes)\n",
    "df2_2.plot(ax=axes)\n",
    "df3_3.plot(ax=axes)\n",
    "df4_4.plot(ax = axes)\n",
    "ground_truth.plot(x = 'ts', y = 'longitude', ax = axes)\n",
    "lines, labels = axes.get_legend_handles_labels()\n",
    "print lines, labels\n",
    "axes.legend(lines, [\"iphone3\", \"iphone4\", \"android3\", \"android4\", 'ground truth'], loc='best')"
   ]
  },
  {
   "cell_type": "markdown",
   "metadata": {},
   "source": [
    "- Function of the graph to form a periodic x interval so we can calculate differences and average \n",
    "- Average of four trips - plot Average against Ground Truth\n",
    " - Points lying within a certain range of the Ground Truth ( Trial and Error )\n",
    " - How to determine how many points are valuable? The percentage of points - the quantity of points. "
   ]
  },
  {
   "cell_type": "code",
   "execution_count": null,
   "metadata": {
    "collapsed": false
   },
   "outputs": [],
   "source": [
    "#Interpolation to get y values for periodic x values\n",
    "x_range = axes.get_xlim()\n",
    "min_x = x_range[0]\n",
    "max_x = x_range[1]\n",
    "periodic_xrange = np.linspace(min_x, max_x, num=50)\n",
    "#Using df1 for now\n",
    "#np.interp(2.01, x, y) # where y is a function and x  values we already have or value of our range\n",
    "df1 = pd.DataFrame(new_iphone_df_3, index=new_iphone_df_3.index,columns=['latitude'])\n",
    "dfList = df1['latitude'].tolist()"
   ]
  },
  {
   "cell_type": "code",
   "execution_count": null,
   "metadata": {
    "collapsed": false
   },
   "outputs": [],
   "source": [
    "import numpy as np\n",
    "\n",
    "iphone_xnew = np.arange(from_ts, end_ts, 15 * 60) # 15 minutes\n",
    "android_xnew = np.arange(from_ts, end_ts, 15 * 60) # 15 minutes"
   ]
  },
  {
   "cell_type": "code",
   "execution_count": null,
   "metadata": {
    "collapsed": false
   },
   "outputs": [],
   "source": [
    "import scipy.interpolate as spi\n",
    "import numpy as np\n",
    "%matplotlib inline\n",
    "\n",
    "def get_interpolated(x, y, xnew):\n",
    "    # fn = spi.interp1d(x=x, y=y, bounds_error=False, fill_value=y.iloc[-1])\n",
    "    fn = spi.interp1d(x=x, y=y, bounds_error=False)\n",
    "    return fn(xnew)\n",
    "newy = get_interpolated(df1.index.tolist(),dfList, periodic_xrange)\n",
    "plt.plot(periodic_xrange, newy)"
   ]
  },
  {
   "cell_type": "code",
   "execution_count": null,
   "metadata": {
    "collapsed": false
   },
   "outputs": [],
   "source": [
    "def get_interpolated_df_latitude(sensor_df, xnew):\n",
    "    local_dt_new = map(pydt.datetime.fromtimestamp, xnew)\n",
    "    fmt_time_new = map(lambda dt: dt.isoformat(), local_dt_new)\n",
    "    interpolated_series = get_interpolated(sensor_df.ts, sensor_df.latitude, xnew)\n",
    "    interpolated_df = pd.DataFrame(data={'ts': xnew, 'metadata_write_ts': xnew, 'local_dt': local_dt_new, 'fmt_time': fmt_time_new, 'y': interpolated_series})\n",
    "    return interpolated_df"
   ]
  },
  {
   "cell_type": "code",
   "execution_count": null,
   "metadata": {
    "collapsed": false
   },
   "outputs": [],
   "source": [
    "get_interpolated_df_latitude(iphone_df_3,periodic_xrange).head()"
   ]
  },
  {
   "cell_type": "code",
   "execution_count": null,
   "metadata": {
    "collapsed": true
   },
   "outputs": [],
   "source": [
    "def get_interp_distance_df(android3_ts, android4_ts, ios3_ts, ios4_ts, ground_truth_df, start_ts, end_ts):\n",
    "    android3_df = android3_ts.get_data_df(\"background/location\", estt.TimeQuery('metadata.write_ts', start_ts, end_ts))\n",
    "    android4_df = android4_ts.get_data_df(\"background/location\", estt.TimeQuery('metadata.write_ts', start_ts, end_ts))\n",
    "    ios3_df = ios3_ts.get_data_df(\"background/location\", estt.TimeQuery('metadata.write_ts', start_ts, end_ts))\n",
    "    ios4_df = ios4_ts.get_data_df(\"background/location\", estt.TimeQuery('metadata.write_ts', start_ts, end_ts))\n",
    "    android3_latf = spi.interp1d(x=android3_df.ts, y=android3_df.latitude, bounds_error=False,\n",
    "                                fill_value=\"extrapolate\")\n",
    "    android3_lngf = spi.interp1d(x=android3_df.ts, y=android3_df.longitude, bounds_error=False, \n",
    "                                fill_value=\"extrapolate\")\n",
    "    android4_latf = spi.interp1d(x=android4_df.ts, y=android4_df.latitude, bounds_error=False, \n",
    "                                fill_value=\"extrapolate\")\n",
    "    android4_lngf = spi.interp1d(x=android4_df.ts, y=android4_df.longitude, bounds_error=False, \n",
    "                                fill_value=\"extrapolate\")\n",
    "    ios3_latf = spi.interp1d(x=ios3_df.ts, y=ios3_df.latitude, bounds_error=False, \n",
    "                            fill_value=(ios3_df.latitude.iloc[0], ios3_df.latitude.iloc[-1]))\n",
    "    ios3_lngf = spi.interp1d(x=ios3_df.ts, y=ios3_df.longitude, bounds_error=False, \n",
    "                            fill_value=(ios3_df.longitude.iloc[0], ios3_df.longitude.iloc[-1]))\n",
    "    ios4_latf = spi.interp1d(x=ios4_df.ts, y=ios4_df.latitude, bounds_error=False, \n",
    "                            fill_value=(ios4_df.latitude.iloc[0], ios4_df.latitude.iloc[-1]))\n",
    "    ios4_lngf = spi.interp1d(x=ios4_df.ts, y=ios4_df.longitude, bounds_error=False, \n",
    "                            fill_value=(ios4_df.longitude.iloc[0], ios4_df.longitude.iloc[-1]))\n",
    "    ground_truth_latf = spi.interp1d(x = ground_truth_df.ts, y = ground_truth.latitude, bounds_error=False, \n",
    "                                     fill_value=(ground_truth.latitude.iloc[0], ground_truth.latitude.iloc[-1]))\n",
    "    ground_truth_lngf = spi.interp1d(x = ground_truth_df.ts, y = ground_truth.longitude, bounds_error=False, \n",
    "                                     fill_value=(ground_truth.longitude.iloc[0], ground_truth.longitude.iloc[-1]))\n",
    "    ts_new = np.arange(int(start_ts), int(end_ts), 1)\n",
    "    fmt_time_new = map(lambda ts: pydt.datetime.fromtimestamp(ts).isoformat(), ts_new)\n",
    "    interp_df = pd.DataFrame({\"ts\": ts_new, \"fmt_time\": fmt_time_new,\n",
    "                            \"android3_lat\": android3_latf(ts_new), \"android3_lng\": android3_lngf(ts_new),\n",
    "                              \"android4_lat\": android4_latf(ts_new), \"android4_lng\": android4_lngf(ts_new),\n",
    "                              \"ios3_lat\": ios3_latf(ts_new),\"ios3_lng\": ios3_lngf(ts_new),\n",
    "                            \"ios4_lat\": ios4_latf(ts_new), \"ios4_lng\": ios4_lngf(ts_new), \n",
    "                              \"ground_truth_lat\":ground_truth_latf(ts_new),\"ground_truth_lng\":ground_truth_lngf(ts_new) },\n",
    "                             index=ts_new)\n",
    "    baseline_distances_1 = np.abs(interp_df.apply(calDistance1, axis=1))\n",
    "    baseline_distances_2 = np.abs(interp_df.apply(calDistance2, axis=1))\n",
    "    baseline_distances_3 = np.abs(interp_df.apply(calDistance3, axis=1))\n",
    "    baseline_distances_4 = np.abs(interp_df.apply(calDistance4, axis=1))\n",
    "\n",
    "    interp_df[\"mean_lat\"] = interp_df.apply(meanLat, axis=1)\n",
    "    interp_df[\"mean_lng\"] = interp_df.apply(meanLng, axis=1)\n",
    "    \n",
    "    interp_df[\"baseline_distances1\"] = baseline_distances_1\n",
    "    interp_df[\"baseline_distances2\"] = baseline_distances_2\n",
    "    interp_df[\"baseline_distances3\"] = baseline_distances_3\n",
    "    interp_df[\"baseline_distances4\"] = baseline_distances_4\n",
    "    interp_df[\"ground_distances\"] = np.abs(interp_df.apply(groundDistance, axis=1))\n",
    "    return interp_df"
   ]
  },
  {
   "cell_type": "code",
   "execution_count": null,
   "metadata": {
    "collapsed": true
   },
   "outputs": [],
   "source": [
    "def calDistance1(row):\n",
    "    return pf.calDistance(ad.AttrDict({\"latitude\": row[\"android3_lat\"], \"longitude\": row[\"android3_lng\"]}),\n",
    "                          ad.AttrDict({\"latitude\": row[\"android4_lat\"], \"longitude\": row[\"android4_lng\"]}))"
   ]
  },
  {
   "cell_type": "code",
   "execution_count": null,
   "metadata": {
    "collapsed": true
   },
   "outputs": [],
   "source": [
    "def calDistance2(row):\n",
    "    return pf.calDistance(ad.AttrDict({\"latitude\": row[\"ios3_lat\"], \"longitude\": row[\"ios3_lng\"]}),\n",
    "                          ad.AttrDict({\"latitude\": row[\"ios4_lat\"], \"longitude\": row[\"ios4_lng\"]}))"
   ]
  },
  {
   "cell_type": "code",
   "execution_count": null,
   "metadata": {
    "collapsed": true
   },
   "outputs": [],
   "source": [
    "def calDistance3(row):\n",
    "    return pf.calDistance(ad.AttrDict({\"latitude\": row[\"ios3_lat\"], \"longitude\": row[\"ios3_lng\"]}),\n",
    "                          ad.AttrDict({\"latitude\": row[\"android3_lat\"], \"longitude\": row[\"android3_lng\"]}))"
   ]
  },
  {
   "cell_type": "code",
   "execution_count": null,
   "metadata": {
    "collapsed": true
   },
   "outputs": [],
   "source": [
    "def calDistance4(row):\n",
    "    return pf.calDistance(ad.AttrDict({\"latitude\": row[\"ios4_lat\"], \"longitude\": row[\"ios4_lng\"]}),\n",
    "                          ad.AttrDict({\"latitude\": row[\"android4_lat\"], \"longitude\": row[\"android4_lng\"]}))"
   ]
  },
  {
   "cell_type": "code",
   "execution_count": null,
   "metadata": {
    "collapsed": true
   },
   "outputs": [],
   "source": [
    "def groundDistance(row):\n",
    "    print \"calculating distances for row %s \" % row\n",
    "    return pf.calDistance(ad.AttrDict({\"latitude\": row[\"ground_truth_lat\"], \"longitude\": row[\"ground_truth_lng\"]}),\n",
    "                          ad.AttrDict({\"latitude\": row[\"mean_lat\"], \"longitude\": row[\"mean_lng\"]}))"
   ]
  },
  {
   "cell_type": "code",
   "execution_count": null,
   "metadata": {
    "collapsed": false
   },
   "outputs": [],
   "source": [
    "def meanLat(row):\n",
    "    return np.mean([row[\"android3_lat\"], row[\"android4_lat\"], \n",
    "                    row[\"ios3_lat\"], row[\"ios4_lat\"]])"
   ]
  },
  {
   "cell_type": "code",
   "execution_count": null,
   "metadata": {
    "collapsed": false
   },
   "outputs": [],
   "source": [
    "def meanLng(row):\n",
    "    return np.mean([row[\"android3_lng\"], row[\"android4_lng\"],\n",
    "                    row[\"ios3_lng\"], row[\"ios4_lng\"]])"
   ]
  },
  {
   "cell_type": "code",
   "execution_count": null,
   "metadata": {
    "collapsed": false
   },
   "outputs": [],
   "source": [
    "import numpy as np\n",
    "import matplotlib.pyplot as plt\n",
    "from scipy.stats import norm\n",
    "distances = get_interp_distance_df(android_ts_3[0],android_ts_4[0],\n",
    "                                   iphone_ts_3[0], iphone_ts_4[0], ground_truth, from_ts, end_ts)"
   ]
  },
  {
   "cell_type": "code",
   "execution_count": null,
   "metadata": {
    "collapsed": false
   },
   "outputs": [],
   "source": [
    "fig, axes = plt.subplots(nrows=1, ncols=1)\n",
    "distances.plot(x = \"ts\", y = \"android3_lat\", ax = axes)\n",
    "distances.plot(x = \"ts\", y = \"android4_lat\", ax = axes)\n",
    "distances.plot(x = \"ts\", y = \"ios3_lat\", ax = axes)\n",
    "distances.plot(x = \"ts\", y = \"ios4_lat\", ax = axes)"
   ]
  },
  {
   "cell_type": "code",
   "execution_count": null,
   "metadata": {
    "collapsed": false
   },
   "outputs": [],
   "source": [
    "distances.head()"
   ]
  },
  {
   "cell_type": "code",
   "execution_count": null,
   "metadata": {
    "collapsed": false
   },
   "outputs": [],
   "source": [
    "distances.baseline_distances1.describe()"
   ]
  },
  {
   "cell_type": "code",
   "execution_count": null,
   "metadata": {
    "collapsed": false
   },
   "outputs": [],
   "source": [
    "distances.baseline_distances1.hist()"
   ]
  },
  {
   "cell_type": "code",
   "execution_count": null,
   "metadata": {
    "collapsed": false
   },
   "outputs": [],
   "source": [
    "distances.plot(x = \"ts\", y = \"baseline_distances1\")"
   ]
  },
  {
   "cell_type": "code",
   "execution_count": null,
   "metadata": {
    "collapsed": false
   },
   "outputs": [],
   "source": [
    "distances.baseline_distances2.describe()"
   ]
  },
  {
   "cell_type": "code",
   "execution_count": null,
   "metadata": {
    "collapsed": false
   },
   "outputs": [],
   "source": [
    "distances.baseline_distances2.hist()"
   ]
  },
  {
   "cell_type": "code",
   "execution_count": null,
   "metadata": {
    "collapsed": false
   },
   "outputs": [],
   "source": [
    "distances.plot(x = \"ts\", y = \"baseline_distances2\")"
   ]
  },
  {
   "cell_type": "code",
   "execution_count": null,
   "metadata": {
    "collapsed": false
   },
   "outputs": [],
   "source": [
    "distances.baseline_distances3.describe()"
   ]
  },
  {
   "cell_type": "code",
   "execution_count": null,
   "metadata": {
    "collapsed": false
   },
   "outputs": [],
   "source": [
    "distances.baseline_distances3.hist()"
   ]
  },
  {
   "cell_type": "code",
   "execution_count": null,
   "metadata": {
    "collapsed": false
   },
   "outputs": [],
   "source": [
    "distances.baseline_distances4.describe()"
   ]
  },
  {
   "cell_type": "code",
   "execution_count": null,
   "metadata": {
    "collapsed": false
   },
   "outputs": [],
   "source": [
    "distances.baseline_distances4.hist()"
   ]
  },
  {
   "cell_type": "code",
   "execution_count": null,
   "metadata": {
    "collapsed": false
   },
   "outputs": [],
   "source": [
    "distances.ground_distances.describe()"
   ]
  },
  {
   "cell_type": "code",
   "execution_count": null,
   "metadata": {
    "collapsed": false
   },
   "outputs": [],
   "source": [
    "distances.ground_distances.hist()"
   ]
  },
  {
   "cell_type": "code",
   "execution_count": null,
   "metadata": {
    "collapsed": false
   },
   "outputs": [],
   "source": [
    "distances.plot(x=\"ts\", y=\"ground_distances\")"
   ]
  },
  {
   "cell_type": "code",
   "execution_count": null,
   "metadata": {
    "collapsed": false
   },
   "outputs": [],
   "source": [
    "distances.plot(x='ts', y = 'baseline_distances1')"
   ]
  },
  {
   "cell_type": "code",
   "execution_count": null,
   "metadata": {
    "collapsed": false
   },
   "outputs": [],
   "source": [
    "import scipy.stats as spis"
   ]
  },
  {
   "cell_type": "code",
   "execution_count": null,
   "metadata": {
    "collapsed": false
   },
   "outputs": [],
   "source": [
    "#Example: Baseline Distances 3\n",
    "mu, sigma = 15.36, 21.42 # mean and standard deviation\n",
    "s = np.random.normal(mu, sigma, 1000)\n",
    "count, bins, ignored = plt.hist(s, 30, normed=True)\n",
    "plt.plot(bins, 1/(sigma * np.sqrt(2 * np.pi)) *np.exp( - (bins - mu)**2 / (2 * sigma**2) ),\n",
    "         linewidth=2, color='r')\n",
    "plt.show()"
   ]
  },
  {
   "cell_type": "code",
   "execution_count": null,
   "metadata": {
    "collapsed": false
   },
   "outputs": [],
   "source": [
    "f_distances = distances.baseline_distances3.hist()"
   ]
  },
  {
   "cell_type": "code",
   "execution_count": null,
   "metadata": {
    "collapsed": false
   },
   "outputs": [],
   "source": [
    "Quantity = []\n",
    "d = {}\n",
    "distances3 = distances[[\"fmt_time\",\"ts\", \"mean_lat\", \"mean_lng\", \"baseline_distances3\", \n",
    "                       \"ground_distances\"]].copy()\n",
    "Threshold = sorted([100, 90, 80, 70, 60, 40, 30, 20, 15, 10, 5])\n",
    "for T in Threshold:\n",
    "    d[\"f_dist{0}\".format(T)] = distances3[distances3.baseline_distances3 < T]\n",
    "    Quantity.append(f_dist.baseline_distances3.describe()[\"count\"])\n",
    "d[\"f_dist5\"].head()\n",
    "# Note=> Ground_distances are distances between groun- truth and mean_lat/lng"
   ]
  },
  {
   "cell_type": "code",
   "execution_count": null,
   "metadata": {
    "collapsed": false
   },
   "outputs": [],
   "source": [
    "#TRIAL\n",
    "#Baseline3\n",
    "df_graph = pd.DataFrame({\"Threshold\": Threshold, \"Quantity\": Quantity}, index = Threshold)\n",
    "df_graph.plot(x = \"Threshold\", y = \"Quantity\")"
   ]
  },
  {
   "cell_type": "code",
   "execution_count": null,
   "metadata": {
    "collapsed": false
   },
   "outputs": [],
   "source": [
    "final_df = pd.DataFrame({\"Threshold\": [], \"Quantity\": [], \"Quality\": []})\n",
    "#for each T in Threshold:\n",
    "    "
   ]
  },
  {
   "cell_type": "code",
   "execution_count": null,
   "metadata": {
    "collapsed": true
   },
   "outputs": [],
   "source": []
  },
  {
   "cell_type": "code",
   "execution_count": null,
   "metadata": {
    "collapsed": true
   },
   "outputs": [],
   "source": []
  },
  {
   "cell_type": "code",
   "execution_count": null,
   "metadata": {
    "collapsed": true
   },
   "outputs": [],
   "source": []
  },
  {
   "cell_type": "code",
   "execution_count": null,
   "metadata": {
    "collapsed": false
   },
   "outputs": [],
   "source": [
    "gt_gj = [{\n",
    "  \"type\": \"Feature\",\n",
    "  \"geometry\": {\n",
    "    \"type\": \"Point\",\n",
    "    \"coordinates\": [[37.8705228,-122.2659393], [37.8696579, -122.2659628], \n",
    "        [37.8686967, -122.2663615],\n",
    "        [37.8677596, -122.2659781], [37.8681473, -122.2636508],\n",
    "        [37.8672381, -122.2634622], [37.8674299, -122.2612558], \n",
    "        [37.8666323, -122.261009], [37.8669238, -122.2587255]]\n",
    "  }\n",
    "}]\n"
   ]
  },
  {
   "cell_type": "code",
   "execution_count": null,
   "metadata": {
    "collapsed": true
   },
   "outputs": [],
   "source": [
    "s = new_iphone_df_3.ts"
   ]
  },
  {
   "cell_type": "code",
   "execution_count": null,
   "metadata": {
    "collapsed": false
   },
   "outputs": [],
   "source": [
    "s = s - s.iloc[0]\n",
    "df = pd.DataFrame()\n",
    "df['time'] = s\n",
    "df['latitude'] = new_iphone_df_3['latitude']\n",
    "df.plot(x = 'time',y = 'latitude')"
   ]
  },
  {
   "cell_type": "code",
   "execution_count": null,
   "metadata": {
    "collapsed": false
   },
   "outputs": [],
   "source": [
    "import emission.analysis.plotting.leaflet_osm.our_plotter as lo\n",
    "import emission.analysis.plotting.geojson.geojson_feature_converter as gfc\n",
    "import emission.analysis.plotting.leaflet_osm.ipython_helper as ipy"
   ]
  },
  {
   "cell_type": "code",
   "execution_count": null,
   "metadata": {
    "collapsed": false,
    "scrolled": true
   },
   "outputs": [],
   "source": [
    "    ipy.inline_maps([lo.get_maps_for_geojson_unsectioned(\n",
    "                [gfc.get_feature_list_from_df(iphone_df_3)]) + \n",
    "                    lo.get_maps_for_geojson_unsectioned(\n",
    "                [gfc.get_feature_list_from_df(iphone_df_4)]) + \n",
    "                     lo.get_maps_for_geojson_unsectioned(\n",
    "                [gfc.get_feature_list_from_df(android_df_3)]) +\n",
    "                     lo.get_maps_for_geojson_unsectioned(\n",
    "                [gfc.get_feature_list_from_df(android_df_4)])])"
   ]
  },
  {
   "cell_type": "code",
   "execution_count": null,
   "metadata": {
    "collapsed": true
   },
   "outputs": [],
   "source": [
    "import geojson as gj"
   ]
  },
  {
   "cell_type": "code",
   "execution_count": null,
   "metadata": {
    "collapsed": false
   },
   "outputs": [],
   "source": [
    "ipy.inline_maps([lo.get_maps_for_geojson_unsectioned(gt_gj)])"
   ]
  },
  {
   "cell_type": "code",
   "execution_count": null,
   "metadata": {
    "collapsed": false
   },
   "outputs": [],
   "source": [
    "gfc.get_feature_list_from_df(iphone_df_3)[\"features\"][1]"
   ]
  }
 ],
 "metadata": {
  "anaconda-cloud": {},
  "kernelspec": {
   "display_name": "Python [conda env:py27]",
   "language": "python",
   "name": "conda-env-py27-py"
  },
  "language_info": {
   "codemirror_mode": {
    "name": "ipython",
    "version": 2
   },
   "file_extension": ".py",
   "mimetype": "text/x-python",
   "name": "python",
   "nbconvert_exporter": "python",
   "pygments_lexer": "ipython2",
   "version": "2.7.12"
  }
 },
 "nbformat": 4,
 "nbformat_minor": 1
}
